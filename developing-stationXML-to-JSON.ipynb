{
 "cells": [
  {
   "cell_type": "markdown",
   "metadata": {},
   "source": [
    "# Developing stationXML to JSON\n",
    "\n",
    "Using specifications [here](https://www.fdsn.org/xml/station/)"
   ]
  },
  {
   "cell_type": "code",
   "execution_count": 36,
   "metadata": {},
   "outputs": [],
   "source": [
    "import json, xmltodict"
   ]
  },
  {
   "cell_type": "code",
   "execution_count": 95,
   "metadata": {},
   "outputs": [
    {
     "name": "stdout",
     "output_type": "stream",
     "text": [
      "  % Total    % Received % Xferd  Average Speed   Time    Time     Time  Current\n",
      "                                 Dload  Upload   Total   Spent    Left  Speed\n",
      "100 69688    0 69688    0     0  93041      0 --:--:-- --:--:-- --:--:-- 92917\n"
     ]
    }
   ],
   "source": [
    "!curl -o data/stationXML/test_stations_us4.xml \"http://service.iris.edu/fdsnws/station/1/query?network=_US-BB,_US-REF&startafter=2012-01-07&endbefore=2022-02-07\"\n"
   ]
  },
  {
   "cell_type": "code",
   "execution_count": 96,
   "metadata": {},
   "outputs": [
    {
     "name": "stdout",
     "output_type": "stream",
     "text": [
      "test_stations.xml     test_stations_us2.xml test_stations_us4.xml\r\n",
      "test_stations_us.xml  test_stations_us3.xml\r\n"
     ]
    }
   ],
   "source": [
    "!ls data/stationXML/"
   ]
  },
  {
   "cell_type": "code",
   "execution_count": 97,
   "metadata": {},
   "outputs": [
    {
     "name": "stdout",
     "output_type": "stream",
     "text": [
      "    1330 data/stationXML/test_stations_us4.xml\r\n"
     ]
    }
   ],
   "source": [
    "!wc -l data/stationXML/test_stations_us4.xml"
   ]
  },
  {
   "cell_type": "markdown",
   "metadata": {},
   "source": [
    "### Converrting to JSON"
   ]
  },
  {
   "cell_type": "code",
   "execution_count": 98,
   "metadata": {},
   "outputs": [],
   "source": [
    "filename_in = \"data/stationXML/test_stations_us4.xml\"\n",
    "filename_out = \"test_stations_us4.json\""
   ]
  },
  {
   "cell_type": "code",
   "execution_count": 99,
   "metadata": {},
   "outputs": [],
   "source": [
    "with open(filename_in,'rb') as f:\n",
    "    partial = xmltodict.parse(f)\n",
    "with open(filename_out, 'w') as f:\n",
    "    json.dump(partial, f, indent=4)"
   ]
  },
  {
   "cell_type": "code",
   "execution_count": 100,
   "metadata": {},
   "outputs": [
    {
     "name": "stdout",
     "output_type": "stream",
     "text": [
      "{\r\n",
      "    \"FDSNStationXML\": {\r\n",
      "        \"@xmlns\": \"http://www.fdsn.org/xml/station/1\",\r\n",
      "        \"@xmlns:xsi\": \"http://www.w3.org/2001/XMLSchema-instance\",\r\n",
      "        \"@xmlns:iris\": \"http://www.fdsn.org/xml/station/1/iris\",\r\n",
      "        \"@xsi:schemaLocation\": \"http://www.fdsn.org/xml/station/1 http://www.fdsn.org/xml/station/fdsn-station-1.1.xsd\",\r\n",
      "        \"@schemaVersion\": \"1.1\",\r\n",
      "        \"Source\": \"IRIS-DMC\",\r\n",
      "        \"Sender\": \"IRIS-DMC\",\r\n",
      "        \"Module\": \"IRIS WEB SERVICE: fdsnws-station | version: 1.1.52\",\r\n",
      "        \"ModuleURI\": \"http://service.iris.edu/fdsnws/station/1/query?network=_US-BB,_US-REF&startafter=2012-01-07&endbefore=2022-02-07\",\r\n",
      "        \"Created\": \"2022-10-13T21:31:58.7928\",\r\n",
      "        \"Network\": [\r\n",
      "            {\r\n",
      "                \"@code\": \"AK\",\r\n",
      "                \"@startDate\": \"1987-01-01T00:00:00.0000\",\r\n",
      "                \"@restrictedStatus\": \"open\",\r\n",
      "                \"Description\": \"Alaska Regional Network ()\",\r\n",
      "                \"Identifier\": {\r\n",
      "                    \"@type\": \"DOI\",\r\n"
     ]
    }
   ],
   "source": [
    "!head -n 20 test_stations_us4.json"
   ]
  },
  {
   "cell_type": "code",
   "execution_count": null,
   "metadata": {},
   "outputs": [],
   "source": []
  }
 ],
 "metadata": {
  "kernelspec": {
   "display_name": "Python 3",
   "language": "python",
   "name": "python3"
  },
  "language_info": {
   "codemirror_mode": {
    "name": "ipython",
    "version": 3
   },
   "file_extension": ".py",
   "mimetype": "text/x-python",
   "name": "python",
   "nbconvert_exporter": "python",
   "pygments_lexer": "ipython3",
   "version": "3.6.5"
  }
 },
 "nbformat": 4,
 "nbformat_minor": 2
}
