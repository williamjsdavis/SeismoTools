{
 "cells": [
  {
   "cell_type": "markdown",
   "metadata": {},
   "source": [
    "# Developing NDK to JSON\n",
    "\n",
    "Using specifications [here](https://www.ldeo.columbia.edu/~gcmt/projects/CMT/catalog/allorder.ndk_explained)"
   ]
  },
  {
   "cell_type": "code",
   "execution_count": null,
   "metadata": {},
   "outputs": [],
   "source": [
    "#import SeismoTools as st\n",
    "import json"
   ]
  },
  {
   "cell_type": "code",
   "execution_count": null,
   "metadata": {},
   "outputs": [],
   "source": [
    "!ls data/GCMT/"
   ]
  },
  {
   "cell_type": "code",
   "execution_count": null,
   "metadata": {},
   "outputs": [],
   "source": [
    "filename = './data/GCMT/aug14.ndk.txt'"
   ]
  },
  {
   "cell_type": "code",
   "execution_count": null,
   "metadata": {},
   "outputs": [],
   "source": [
    "with open(filename, mode='r') as f:\n",
    "    filecontent = f.read()"
   ]
  },
  {
   "cell_type": "code",
   "execution_count": null,
   "metadata": {},
   "outputs": [],
   "source": [
    "filelines = filecontent.splitlines()"
   ]
  },
  {
   "cell_type": "code",
   "execution_count": null,
   "metadata": {},
   "outputs": [],
   "source": [
    "n_events = len(filelines) // 5\n",
    "n_events"
   ]
  },
  {
   "cell_type": "code",
   "execution_count": null,
   "metadata": {},
   "outputs": [],
   "source": [
    "raw_events = [filelines[(i*5):((i*5)+5)] for i in range(n_events)]\n",
    "raw_events"
   ]
  },
  {
   "cell_type": "code",
   "execution_count": null,
   "metadata": {},
   "outputs": [],
   "source": [
    "raw_events[4]"
   ]
  },
  {
   "cell_type": "code",
   "execution_count": null,
   "metadata": {},
   "outputs": [],
   "source": [
    "def NDK2JSON(filename_in, i, filename_out):\n",
    "    \n",
    "    filelines = get_NDK_lines(filename_in)\n",
    "    raw_events = [filelines[(j*5):((j*5)+5)] for j in range(n_events)]\n",
    "    data = parse_lines(raw_events[i])\n",
    "    \n",
    "    with open(filename_out, 'w') as f:\n",
    "        json.dump(data, f, indent=4)\n",
    "    return data\n",
    "        \n",
    "def get_NDK_lines(filename_in):\n",
    "    with open(filename_in, mode='r') as f:\n",
    "        filecontent = f.read()\n",
    "    filelines = filecontent.splitlines()\n",
    "    return filelines\n",
    "\n",
    "def parse_lines(raw_lines):\n",
    "    data = {\n",
    "        **parse_line1(raw_lines[0]),\n",
    "        **parse_line2(raw_lines[1]),\n",
    "        **parse_line3(raw_lines[2]),\n",
    "        **parse_line4(raw_lines[3]),\n",
    "        **parse_line5(raw_lines[4]),\n",
    "    }\n",
    "    return data\n",
    "\n",
    "def irange(istart, iend):\n",
    "    return slice(istart-1,iend)\n",
    "def parse_line1(raw_line):\n",
    "    data = {\n",
    "        'hypocenter_reference_catalog' : raw_line[irange(1,4)],\n",
    "        'date' : raw_line[irange(6,15)],\n",
    "        'time' : raw_line[irange(17,26)],\n",
    "        'latitude' : raw_line[irange(28,33)],\n",
    "        'longitude' : raw_line[irange(35,41)],\n",
    "        'depth' : raw_line[irange(43,47)],\n",
    "        'magnitudes' : raw_line[irange(49,55)],\n",
    "        'location' : raw_line[irange(57,80)],\n",
    "    }\n",
    "    return data\n",
    "def parse_line2(raw_line):\n",
    "    data = {\n",
    "        'CMT_event_name' : raw_line[irange(1,16)],\n",
    "        'inversion_info' : parse_inversion_info(raw_line[irange(18,61)]),\n",
    "        'inversion_source_type' : raw_line[irange(63,68)],\n",
    "        'moment_rate_function' : parse_inversion_source_type(raw_line[irange(70,80)]),\n",
    "    }\n",
    "    return data\n",
    "def parse_line3(raw_line):\n",
    "    data = {\n",
    "        'centroid_parameters' : raw_line[irange(1,58)],\n",
    "        'depth_type' : raw_line[irange(60,63)],\n",
    "        'timestamp' : raw_line[irange(66,80)],\n",
    "    }\n",
    "    return data\n",
    "def parse_line4(raw_line):\n",
    "    data = {\n",
    "        'CMT_exponent' : raw_line[irange(1,2)],\n",
    "        'moment_tensor' : raw_line[irange(3,80)],\n",
    "    }\n",
    "    return data\n",
    "def parse_line5(raw_line):\n",
    "    data = {\n",
    "        'code_version' : raw_line[irange(1,3)],\n",
    "        'moment_tensor_principal_axis' : raw_line[irange(4,48)],\n",
    "        'scalar_moment' : raw_line[irange(50,56)],\n",
    "        'sdr_1st_nodal_plane_dc' : raw_line[irange(58,80)],\n",
    "    }\n",
    "    return data\n",
    "\n",
    "def parse_inversion_info(raw_line_string):\n",
    "    data = {\n",
    "        'B_data' : parse_inversion_info_B(raw_line_string),\n",
    "        'S_data' : parse_inversion_info_S(raw_line_string),\n",
    "        'M_data' : parse_inversion_info_M(raw_line_string),\n",
    "    }\n",
    "    return data\n",
    "def parse_inversion_info_B(raw_line_string):\n",
    "    if 'B:' in raw_line_string:\n",
    "        istart = raw_line_string.find('B:') + 2\n",
    "        iend = raw_line_string.find('S')\n",
    "        B_string = raw_line_string[istart:iend]\n",
    "        B_string_split = B_string.split()\n",
    "        n_stations = B_string_split[0]\n",
    "        n_components = B_string_split[1]\n",
    "        shortest_period = B_string_split[2]\n",
    "    else:\n",
    "        n_stations = ''\n",
    "        n_components = ''\n",
    "        shortest_period = ''\n",
    "    data = {\n",
    "        'n_stations' : n_stations,\n",
    "        'n_components' : n_components,\n",
    "        'shortest_period' : shortest_period,\n",
    "    }\n",
    "    return data\n",
    "def parse_inversion_info_S(raw_line_string):\n",
    "    if 'S:' in raw_line_string:\n",
    "        istart = raw_line_string.find('S:') + 2\n",
    "        iend = raw_line_string.find('M')\n",
    "        S_string = raw_line_string[istart:iend]\n",
    "        S_string_split = S_string.split()\n",
    "        n_stations = S_string_split[0]\n",
    "        n_components = S_string_split[1]\n",
    "        shortest_period = S_string_split[2]\n",
    "    else:\n",
    "        n_stations = ''\n",
    "        n_components = ''\n",
    "        shortest_period = ''\n",
    "    data = {\n",
    "        'n_stations' : n_stations,\n",
    "        'n_components' : n_components,\n",
    "        'shortest_period' : shortest_period,\n",
    "    }\n",
    "    return data\n",
    "def parse_inversion_info_M(raw_line_string):\n",
    "    if 'M:' in raw_line_string:\n",
    "        istart = raw_line_string.find('M:') + 2\n",
    "        iend = len(raw_line_string)\n",
    "        M_string = raw_line_string[istart:iend]\n",
    "        M_string_split = M_string.split()\n",
    "        n_stations = M_string_split[0]\n",
    "        n_components = M_string_split[1]\n",
    "        shortest_period = M_string_split[2]\n",
    "    else:\n",
    "        n_stations = ''\n",
    "        n_components = ''\n",
    "        shortest_period = ''\n",
    "    data = {\n",
    "        'n_stations' : n_stations,\n",
    "        'n_components' : n_components,\n",
    "        'shortest_period' : shortest_period,\n",
    "    }\n",
    "    return data\n",
    "def parse_inversion_source_type(raw_line_string):\n",
    "    colon_loc = raw_line_string.find(':')\n",
    "    type_string = raw_line_string[0:colon_loc]\n",
    "    value_string = raw_line_string[(colon_loc+1):len(raw_line_string)]\n",
    "    data = {\n",
    "        'type' : type_string,\n",
    "        'value' : value_string,\n",
    "    }\n",
    "    return data\n",
    "parse_lines(raw_events[4])"
   ]
  },
  {
   "cell_type": "code",
   "execution_count": null,
   "metadata": {},
   "outputs": [],
   "source": [
    "NDK2JSON('./data/GCMT/aug14.ndk.txt', 4, 'C201408011312A.json')"
   ]
  },
  {
   "cell_type": "code",
   "execution_count": null,
   "metadata": {},
   "outputs": [],
   "source": [
    "!ls"
   ]
  },
  {
   "cell_type": "markdown",
   "metadata": {},
   "source": [
    "# Using package"
   ]
  },
  {
   "cell_type": "code",
   "execution_count": 1,
   "metadata": {},
   "outputs": [],
   "source": [
    "import SeismoTools as st"
   ]
  },
  {
   "cell_type": "code",
   "execution_count": 2,
   "metadata": {},
   "outputs": [],
   "source": [
    "filename = './data/GCMT/aug14.ndk.txt'"
   ]
  },
  {
   "cell_type": "code",
   "execution_count": 3,
   "metadata": {},
   "outputs": [
    {
     "name": "stdout",
     "output_type": "stream",
     "text": [
      "aug14.ndk.txt\r\n"
     ]
    }
   ],
   "source": [
    "!ls data/GCMT/"
   ]
  },
  {
   "cell_type": "code",
   "execution_count": 4,
   "metadata": {},
   "outputs": [
    {
     "ename": "NameError",
     "evalue": "name 'n_events' is not defined",
     "output_type": "error",
     "traceback": [
      "\u001b[0;31m---------------------------------------------------------------------------\u001b[0m",
      "\u001b[0;31mNameError\u001b[0m                                 Traceback (most recent call last)",
      "\u001b[0;32m<ipython-input-4-497c1cdca7ec>\u001b[0m in \u001b[0;36m<module>\u001b[0;34m()\u001b[0m\n\u001b[0;32m----> 1\u001b[0;31m \u001b[0mst\u001b[0m\u001b[0;34m.\u001b[0m\u001b[0mNDK2JSON\u001b[0m\u001b[0;34m(\u001b[0m\u001b[0mfilename\u001b[0m\u001b[0;34m,\u001b[0m \u001b[0;36m4\u001b[0m\u001b[0;34m,\u001b[0m \u001b[0;34m'C201408011312A.json'\u001b[0m\u001b[0;34m)\u001b[0m\u001b[0;34m\u001b[0m\u001b[0m\n\u001b[0m",
      "\u001b[0;32m~/Documents/python/SeismoTools/SeismoTools/NDK2JSON.py\u001b[0m in \u001b[0;36mNDK2JSON\u001b[0;34m(filename_in, i, filename_out)\u001b[0m\n\u001b[1;32m      4\u001b[0m \u001b[0;34m\u001b[0m\u001b[0m\n\u001b[1;32m      5\u001b[0m     \u001b[0mfilelines\u001b[0m \u001b[0;34m=\u001b[0m \u001b[0mget_NDK_lines\u001b[0m\u001b[0;34m(\u001b[0m\u001b[0mfilename_in\u001b[0m\u001b[0;34m)\u001b[0m\u001b[0;34m\u001b[0m\u001b[0m\n\u001b[0;32m----> 6\u001b[0;31m     \u001b[0mraw_events\u001b[0m \u001b[0;34m=\u001b[0m \u001b[0;34m[\u001b[0m\u001b[0mfilelines\u001b[0m\u001b[0;34m[\u001b[0m\u001b[0;34m(\u001b[0m\u001b[0mj\u001b[0m\u001b[0;34m*\u001b[0m\u001b[0;36m5\u001b[0m\u001b[0;34m)\u001b[0m\u001b[0;34m:\u001b[0m\u001b[0;34m(\u001b[0m\u001b[0;34m(\u001b[0m\u001b[0mj\u001b[0m\u001b[0;34m*\u001b[0m\u001b[0;36m5\u001b[0m\u001b[0;34m)\u001b[0m\u001b[0;34m+\u001b[0m\u001b[0;36m5\u001b[0m\u001b[0;34m)\u001b[0m\u001b[0;34m]\u001b[0m \u001b[0;32mfor\u001b[0m \u001b[0mj\u001b[0m \u001b[0;32min\u001b[0m \u001b[0mrange\u001b[0m\u001b[0;34m(\u001b[0m\u001b[0mn_events\u001b[0m\u001b[0;34m)\u001b[0m\u001b[0;34m]\u001b[0m\u001b[0;34m\u001b[0m\u001b[0m\n\u001b[0m\u001b[1;32m      7\u001b[0m     \u001b[0mdata\u001b[0m \u001b[0;34m=\u001b[0m \u001b[0mparse_lines\u001b[0m\u001b[0;34m(\u001b[0m\u001b[0mraw_events\u001b[0m\u001b[0;34m[\u001b[0m\u001b[0mi\u001b[0m\u001b[0;34m]\u001b[0m\u001b[0;34m)\u001b[0m\u001b[0;34m\u001b[0m\u001b[0m\n\u001b[1;32m      8\u001b[0m \u001b[0;34m\u001b[0m\u001b[0m\n",
      "\u001b[0;31mNameError\u001b[0m: name 'n_events' is not defined"
     ]
    }
   ],
   "source": [
    "st.NDK2JSON(filename, 4, 'C201408011312A.json')"
   ]
  },
  {
   "cell_type": "code",
   "execution_count": null,
   "metadata": {},
   "outputs": [],
   "source": []
  }
 ],
 "metadata": {
  "@webio": {
   "lastCommId": null,
   "lastKernelId": null
  },
  "kernelspec": {
   "display_name": "Python 3",
   "language": "python",
   "name": "python3"
  },
  "language_info": {
   "codemirror_mode": {
    "name": "ipython",
    "version": 3
   },
   "file_extension": ".py",
   "mimetype": "text/x-python",
   "name": "python",
   "nbconvert_exporter": "python",
   "pygments_lexer": "ipython3",
   "version": "3.6.5"
  }
 },
 "nbformat": 4,
 "nbformat_minor": 2
}
