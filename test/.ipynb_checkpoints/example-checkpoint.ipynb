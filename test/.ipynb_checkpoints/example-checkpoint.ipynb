{
 "cells": [
  {
   "cell_type": "markdown",
   "metadata": {},
   "source": [
    "# Example reading SAC files\n",
    "\n",
    "The SAC file format is described in [iris.edu](http://ds.iris.edu/files/sac-manual/manual/file_format.html).\n",
    "\n",
    "The header is split up into 3 sections:\n",
    "\n",
    "1. First 70 words of 4 bytes each, float32\n",
    "2. Next 40 words of 4 bytes each, int32\n",
    "3. Next 24 words of 8 bytes each, char\n",
    "\n",
    "I've formatted the most important parts of the header into a dict. After the header, the rest of the body contains the waveform data.\n",
    "\n",
    "The data I've included here, I would consider to be one \"unit\" of data. However as you can see it is split into 3 files (corresponding to North, East, and vertical components), and much of the header is repeated across the files. "
   ]
  },
  {
   "cell_type": "code",
   "execution_count": 1,
   "metadata": {},
   "outputs": [],
   "source": [
    "from struct import unpack"
   ]
  },
  {
   "cell_type": "code",
   "execution_count": 17,
   "metadata": {},
   "outputs": [],
   "source": [
    "filename = 'data/GB.CWF..BHZ.M.2018.048.143104.SAC'"
   ]
  },
  {
   "cell_type": "code",
   "execution_count": 13,
   "metadata": {},
   "outputs": [],
   "source": [
    "def get_data(filename):\n",
    "    with open(filename, mode='rb') as f:\n",
    "        filecontent = f.read()\n",
    "    \n",
    "    # Number of words in header\n",
    "    header1_nwords = 70 # 4 bytes each\n",
    "    header2_nwords = 40 # 4 bytes each\n",
    "    header3_nwords = 24 # 8 bytes each\n",
    "\n",
    "    # Byte locations\n",
    "    i = 4 * header1_nwords\n",
    "    j = i + (4 * header2_nwords)\n",
    "    k = j + (8 * header3_nwords)\n",
    "    iend = len(filecontent)\n",
    "\n",
    "    # Number of words in body\n",
    "    body_nwords = (iend - k) // 4\n",
    "\n",
    "    # Unpack\n",
    "    header1 = unpack(\"f\" * header1_nwords, filecontent[:i])\n",
    "    header2 = unpack(\"i\" * header2_nwords, filecontent[i:j])\n",
    "    header3 = unpack(\"8s\" * header3_nwords, filecontent[j:k])\n",
    "    body = unpack(\"f\" * body_nwords, filecontent[k:iend])\n",
    "    metadata_small = {\n",
    "        'network name' : header3[21].decode(\"utf-8\"),\n",
    "        'station name' : header3[0].decode(\"utf-8\"),\n",
    "        'component' : header3[20].decode(\"utf-8\"),\n",
    "        'year' : header2[0],\n",
    "        'day' : header2[1],\n",
    "        'hour' : header2[2],\n",
    "        'minute' : header2[3],\n",
    "        'second' : header2[4],\n",
    "        'millisecond' : header2[5],\n",
    "        'delta t' : header1[0],\n",
    "        'no. points' : header2[9],\n",
    "        'station lat.' : header1[31],\n",
    "        'station lon.' : header1[32],\n",
    "        'station az.' : header1[57],\n",
    "        'station inc.' : header1[58],\n",
    "    }\n",
    "    return body, metadata_small"
   ]
  },
  {
   "cell_type": "code",
   "execution_count": 14,
   "metadata": {},
   "outputs": [
    {
     "data": {
      "text/plain": [
       "{'network name': 'GB      ',\n",
       " 'station name': 'CWF     ',\n",
       " 'component': 'BHZ     ',\n",
       " 'year': 2018,\n",
       " 'day': 48,\n",
       " 'hour': 14,\n",
       " 'minute': 31,\n",
       " 'second': 4,\n",
       " 'millisecond': 15,\n",
       " 'delta t': 0.019999999552965164,\n",
       " 'no. points': 17800,\n",
       " 'station lat.': 52.73849868774414,\n",
       " 'station lon.': -1.307669997215271,\n",
       " 'station az.': 0.0,\n",
       " 'station inc.': 0.0}"
      ]
     },
     "execution_count": 14,
     "metadata": {},
     "output_type": "execute_result"
    }
   ],
   "source": [
    "body, metadata_small = get_data(filename)\n",
    "metadata_small"
   ]
  },
  {
   "cell_type": "code",
   "execution_count": 15,
   "metadata": {},
   "outputs": [],
   "source": [
    "import matplotlib.pyplot as plt"
   ]
  },
  {
   "cell_type": "code",
   "execution_count": 16,
   "metadata": {},
   "outputs": [
    {
     "data": {
      "text/plain": [
       "[<matplotlib.lines.Line2D at 0x1179ef860>]"
      ]
     },
     "execution_count": 16,
     "metadata": {},
     "output_type": "execute_result"
    },
    {
     "data": {
      "image/png": "[encoded data removed]",
      "text/plain": [
       "<Figure size 432x288 with 1 Axes>"
      ]
     },
     "metadata": {},
     "output_type": "display_data"
    }
   ],
   "source": [
    "plt.plot(body)"
   ]
  },
  {
   "cell_type": "code",
   "execution_count": null,
   "metadata": {},
   "outputs": [],
   "source": []
  }
 ],
 "metadata": {
  "@webio": {
   "lastCommId": null,
   "lastKernelId": null
  },
  "kernelspec": {
   "display_name": "Python 3",
   "language": "python",
   "name": "python3"
  },
  "language_info": {
   "codemirror_mode": {
    "name": "ipython",
    "version": 3
   },
   "file_extension": ".py",
   "mimetype": "text/x-python",
   "name": "python",
   "nbconvert_exporter": "python",
   "pygments_lexer": "ipython3",
   "version": "3.6.5"
  }
 },
 "nbformat": 4,
 "nbformat_minor": 2
}
