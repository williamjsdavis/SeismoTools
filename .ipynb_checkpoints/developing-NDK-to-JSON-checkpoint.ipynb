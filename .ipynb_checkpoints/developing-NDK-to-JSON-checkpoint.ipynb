{
 "cells": [
  {
   "cell_type": "markdown",
   "metadata": {},
   "source": [
    "# Developing NDK to JSON\n",
    "\n",
    "Using specifications [here](https://www.ldeo.columbia.edu/~gcmt/projects/CMT/catalog/allorder.ndk_explained)"
   ]
  },
  {
   "cell_type": "code",
   "execution_count": null,
   "metadata": {},
   "outputs": [],
   "source": [
    "#import SeismoTools as st\n",
    "import json"
   ]
  },
  {
   "cell_type": "code",
   "execution_count": null,
   "metadata": {},
   "outputs": [],
   "source": [
    "!ls data/GCMT/"
   ]
  },
  {
   "cell_type": "code",
   "execution_count": null,
   "metadata": {},
   "outputs": [],
   "source": [
    "filename = './data/GCMT/aug14.ndk.txt'"
   ]
  },
  {
   "cell_type": "code",
   "execution_count": null,
   "metadata": {},
   "outputs": [],
   "source": [
    "with open(filename, mode='r') as f:\n",
    "    filecontent = f.read()"
   ]
  },
  {
   "cell_type": "code",
   "execution_count": null,
   "metadata": {},
   "outputs": [],
   "source": [
    "filelines = filecontent.splitlines()"
   ]
  },
  {
   "cell_type": "code",
   "execution_count": null,
   "metadata": {},
   "outputs": [],
   "source": [
    "n_events = len(filelines) // 5\n",
    "n_events"
   ]
  },
  {
   "cell_type": "code",
   "execution_count": null,
   "metadata": {},
   "outputs": [],
   "source": [
    "raw_events = [filelines[(i*5):((i*5)+5)] for i in range(n_events)]\n",
    "raw_events"
   ]
  },
  {
   "cell_type": "code",
   "execution_count": null,
   "metadata": {},
   "outputs": [],
   "source": [
    "raw_events[4]"
   ]
  },
  {
   "cell_type": "code",
   "execution_count": null,
   "metadata": {},
   "outputs": [],
   "source": [
    "def NDK2JSON(filename_in, i, filename_out):\n",
    "    \n",
    "    filelines = get_NDK_lines(filename_in)\n",
    "    n_events = len(filelines) // 5\n",
    "    raw_events = [filelines[(j*5):((j*5)+5)] for j in range(n_events)]\n",
    "    data = parse_lines(raw_events[i])\n",
    "    \n",
    "    with open(filename_out, 'w') as f:\n",
    "        json.dump(data, f, indent=4)\n",
    "    return data\n",
    "        \n",
    "def get_NDK_lines(filename_in):\n",
    "    with open(filename_in, mode='r') as f:\n",
    "        filecontent = f.read()\n",
    "    filelines = filecontent.splitlines()\n",
    "    return filelines\n",
    "\n",
    "def parse_lines(raw_lines):\n",
    "    data = {\n",
    "        **parse_line1(raw_lines[0]),\n",
    "        **parse_line2(raw_lines[1]),\n",
    "        **parse_line3(raw_lines[2]),\n",
    "        **parse_line4(raw_lines[3]),\n",
    "        **parse_line5(raw_lines[4]),\n",
    "    }\n",
    "    print(json.dumps(parse_line3(raw_lines[2]), indent=2, default=str))\n",
    "    return data\n",
    "\n",
    "def irange(istart, iend):\n",
    "    return slice(istart-1,iend)\n",
    "\n",
    "# Lines parsing\n",
    "def parse_line1(raw_line):\n",
    "    data = {\n",
    "        'hypocenter_reference_catalog' : raw_line[irange(1,4)],\n",
    "        'date' : raw_line[irange(6,15)],\n",
    "        'time' : raw_line[irange(17,26)],\n",
    "        'latitude' : raw_line[irange(28,33)],\n",
    "        'longitude' : raw_line[irange(35,41)],\n",
    "        'depth' : raw_line[irange(43,47)],\n",
    "        'magnitudes' : raw_line[irange(49,55)],\n",
    "        'location' : raw_line[irange(57,80)],\n",
    "    }\n",
    "    data = {k: v.strip() for k, v in data.items()}\n",
    "    return data\n",
    "def parse_line2(raw_line):\n",
    "    data = {\n",
    "        'CMT_event_name' : raw_line[irange(1,16)].strip(),\n",
    "        'inversion_info' : parse_inversion_info(raw_line[irange(18,61)]),\n",
    "        'inversion_source_type' : raw_line[irange(63,68)].strip(),\n",
    "        'moment_rate_function' : parse_inversion_source_type(raw_line[irange(70,80)]),\n",
    "    }\n",
    "    return data\n",
    "def parse_line3(raw_line):\n",
    "    data = {\n",
    "        'centroid_parameters' : parse_centroid(raw_line[irange(1,58)]),\n",
    "        'depth_type' : parse_depth_type(raw_line[irange(60,63)]),\n",
    "        'timestamp' : parse_timestamp(raw_line[irange(65,80)]),\n",
    "    }\n",
    "    return data\n",
    "def parse_line4(raw_line):\n",
    "    data = {\n",
    "        'CMT_exponent' : raw_line[irange(1,2)],\n",
    "        'moment_tensor' : raw_line[irange(3,80)],\n",
    "    }\n",
    "    return data\n",
    "def parse_line5(raw_line):\n",
    "    data = {\n",
    "        'code_version' : raw_line[irange(1,3)],\n",
    "        'moment_tensor_principal_axis' : raw_line[irange(4,48)],\n",
    "        'scalar_moment' : raw_line[irange(50,56)],\n",
    "        'sdr_1st_nodal_plane_dc' : raw_line[irange(58,80)],\n",
    "    }\n",
    "    return data\n",
    "\n",
    "# Line 2 parsing\n",
    "def parse_inversion_info(raw_line_string):\n",
    "    data = {\n",
    "        'B_data' : parse_inversion_info_B(raw_line_string),\n",
    "        'S_data' : parse_inversion_info_S(raw_line_string),\n",
    "        'M_data' : parse_inversion_info_M(raw_line_string),\n",
    "    }\n",
    "    return data\n",
    "def parse_inversion_info_B(raw_line_string):\n",
    "    if 'B:' in raw_line_string:\n",
    "        istart = raw_line_string.find('B:') + 2\n",
    "        iend = raw_line_string.find('S')\n",
    "        B_string = raw_line_string[istart:iend]\n",
    "        B_string_split = B_string.split()\n",
    "        n_stations = B_string_split[0]\n",
    "        n_components = B_string_split[1]\n",
    "        shortest_period = B_string_split[2]\n",
    "    else:\n",
    "        n_stations = ''\n",
    "        n_components = ''\n",
    "        shortest_period = ''\n",
    "    data = {\n",
    "        'n_stations' : n_stations,\n",
    "        'n_components' : n_components,\n",
    "        'shortest_period' : shortest_period,\n",
    "    }\n",
    "    return data\n",
    "def parse_inversion_info_S(raw_line_string):\n",
    "    if 'S:' in raw_line_string:\n",
    "        istart = raw_line_string.find('S:') + 2\n",
    "        iend = raw_line_string.find('M')\n",
    "        S_string = raw_line_string[istart:iend]\n",
    "        S_string_split = S_string.split()\n",
    "        n_stations = S_string_split[0]\n",
    "        n_components = S_string_split[1]\n",
    "        shortest_period = S_string_split[2]\n",
    "    else:\n",
    "        n_stations = ''\n",
    "        n_components = ''\n",
    "        shortest_period = ''\n",
    "    data = {\n",
    "        'n_stations' : n_stations,\n",
    "        'n_components' : n_components,\n",
    "        'shortest_period' : shortest_period,\n",
    "    }\n",
    "    return data\n",
    "def parse_inversion_info_M(raw_line_string):\n",
    "    if 'M:' in raw_line_string:\n",
    "        istart = raw_line_string.find('M:') + 2\n",
    "        iend = len(raw_line_string)\n",
    "        M_string = raw_line_string[istart:iend]\n",
    "        M_string_split = M_string.split()\n",
    "        n_stations = M_string_split[0]\n",
    "        n_components = M_string_split[1]\n",
    "        shortest_period = M_string_split[2]\n",
    "    else:\n",
    "        n_stations = ''\n",
    "        n_components = ''\n",
    "        shortest_period = ''\n",
    "    data = {\n",
    "        'n_stations' : n_stations,\n",
    "        'n_components' : n_components,\n",
    "        'shortest_period' : shortest_period,\n",
    "    }\n",
    "    return data\n",
    "def parse_inversion_source_type(raw_line_string):\n",
    "    colon_loc = raw_line_string.find(':')\n",
    "    type_string = raw_line_string[0:colon_loc]\n",
    "    value_string = raw_line_string[(colon_loc+1):len(raw_line_string)]\n",
    "    data = {\n",
    "        'type' : type_string,\n",
    "        'value' : value_string,\n",
    "    }\n",
    "    data = {k: v.strip() for k, v in data.items()}\n",
    "    return data\n",
    "\n",
    "# Line 3 parsing\n",
    "def parse_centroid(raw_line_string):\n",
    "    raw_line_string_split = raw_line_string.split()\n",
    "    centroid_time = {\n",
    "        'value' : raw_line_string_split[1],\n",
    "        'standard_error' : raw_line_string_split[2],\n",
    "    }\n",
    "    centroid_latitude = {\n",
    "        'value' : raw_line_string_split[3],\n",
    "        'standard_error' : raw_line_string_split[4],\n",
    "    }\n",
    "    centroid_longitude = {\n",
    "        'value' : raw_line_string_split[5],\n",
    "        'standard_error' : raw_line_string_split[6],\n",
    "    }\n",
    "    centroid_depth = {\n",
    "        'value' : raw_line_string_split[7],\n",
    "        'standard_error' : raw_line_string_split[8],\n",
    "    }\n",
    "    data = {\n",
    "        'time' : centroid_time,\n",
    "        'latitude' : centroid_latitude,\n",
    "        'longitude' : centroid_longitude,\n",
    "        'depth' : centroid_depth,\n",
    "    }\n",
    "    return data\n",
    "def parse_depth_type(raw_line_string):\n",
    "    if 'FREE' in raw_line_string:\n",
    "        depth_type = 'free'\n",
    "    elif 'FIX' in raw_line_string:\n",
    "        depth_type = 'fixed'\n",
    "    elif 'BDY' in raw_line_string:\n",
    "        depth_type = 'modelled'\n",
    "    else: \n",
    "        depth_type = 'unknown'\n",
    "    return depth_type\n",
    "def parse_timestamp(raw_line_string):\n",
    "    if 'Q-' in raw_line_string:\n",
    "        CMT_type = 'quick'\n",
    "    elif 'S-' in raw_line_string:\n",
    "        CMT_type = 'standard'\n",
    "    else: \n",
    "        CMT_type = 'unknown'\n",
    "    data = {\n",
    "        'CMT_type' : CMT_type,\n",
    "        'Timestamp' : raw_line_string.strip(),\n",
    "    }\n",
    "    return data\n",
    "        \n",
    "parse_lines(raw_events[4])"
   ]
  },
  {
   "cell_type": "code",
   "execution_count": null,
   "metadata": {},
   "outputs": [],
   "source": [
    "NDK2JSON('./data/GCMT/aug14.ndk.txt', 4, 'C201408011312A.json')"
   ]
  },
  {
   "cell_type": "code",
   "execution_count": null,
   "metadata": {},
   "outputs": [],
   "source": [
    "!ls"
   ]
  },
  {
   "cell_type": "markdown",
   "metadata": {},
   "source": [
    "# Using package"
   ]
  },
  {
   "cell_type": "code",
   "execution_count": 1,
   "metadata": {},
   "outputs": [],
   "source": [
    "import SeismoTools as st"
   ]
  },
  {
   "cell_type": "code",
   "execution_count": 2,
   "metadata": {},
   "outputs": [],
   "source": [
    "filename = './data/GCMT/aug14.ndk.txt'"
   ]
  },
  {
   "cell_type": "code",
   "execution_count": 3,
   "metadata": {},
   "outputs": [
    {
     "name": "stdout",
     "output_type": "stream",
     "text": [
      "aug14.ndk.txt\r\n"
     ]
    }
   ],
   "source": [
    "!ls data/GCMT/"
   ]
  },
  {
   "cell_type": "code",
   "execution_count": 4,
   "metadata": {},
   "outputs": [
    {
     "name": "stdout",
     "output_type": "stream",
     "text": [
      "C201408011312A.json          developing-NDK-to-JSON.ipynb\r\n",
      "README.md                    developing-SAC-to-JSON.ipynb\r\n",
      "\u001b[1m\u001b[36mSeismoTools\u001b[m\u001b[m                  five_out.json\r\n",
      "\u001b[1m\u001b[36mdata\u001b[m\u001b[m                         \u001b[1m\u001b[36mtest\u001b[m\u001b[m\r\n"
     ]
    }
   ],
   "source": [
    "!ls"
   ]
  },
  {
   "cell_type": "code",
   "execution_count": 5,
   "metadata": {},
   "outputs": [],
   "source": [
    "!rm C201408011312A.json"
   ]
  },
  {
   "cell_type": "code",
   "execution_count": 6,
   "metadata": {},
   "outputs": [
    {
     "data": {
      "text/plain": [
       "{'hypocenter_reference_catalog': 'PDEW',\n",
       " 'date': '2014/08/01',\n",
       " 'time': '13:12:56.1',\n",
       " 'latitude': '17.51',\n",
       " 'longitude': '146.53',\n",
       " 'depth': '108.7',\n",
       " 'magnitudes': '0.0 5.0',\n",
       " 'location': 'MARIANA ISLANDS',\n",
       " 'CMT_event_name': 'C201408011312A',\n",
       " 'inversion_info': {'B_data': {'n_stations': '52',\n",
       "   'n_components': '57',\n",
       "   'shortest_period': '40'},\n",
       "  'S_data': {'n_stations': '120',\n",
       "   'n_components': '189',\n",
       "   'shortest_period': '50'},\n",
       "  'M_data': {'n_stations': '0', 'n_components': '0', 'shortest_period': '0'}},\n",
       " 'inversion_source_type': 'CMT: 1',\n",
       " 'moment_rate_function': {'type': 'TRIHD', 'value': '0.8'},\n",
       " 'centroid_parameters': {'time': {'value': '3.0', 'standard_error': '0.2'},\n",
       "  'latitude': {'value': '17.53', 'standard_error': '0.01'},\n",
       "  'longitude': {'value': '146.79', 'standard_error': '0.02'},\n",
       "  'depth': {'value': '101.9', 'standard_error': '2.7'}},\n",
       " 'depth_type': 'free',\n",
       " 'timestamp': {'CMT_type': 'standard', 'Timestamp': 'S-20141105154027'},\n",
       " 'CMT_exponent': '23',\n",
       " 'moment_tensor': '  0.507 0.116  1.300 0.116 -1.810 0.111 -2.800 0.064  0.600 0.074  2.610 0.093',\n",
       " 'code_version': 'V10',\n",
       " 'moment_tensor_principal_axis': '   4.205 33 160  -0.017 46 293  -4.191 25  52',\n",
       " 'scalar_moment': '  4.198',\n",
       " 'sdr_1st_nodal_plane_dc': '193 47  173 288 85   44'}"
      ]
     },
     "execution_count": 6,
     "metadata": {},
     "output_type": "execute_result"
    }
   ],
   "source": [
    "st.NDK2JSON(filename, 4, 'C201408011312A.json')"
   ]
  },
  {
   "cell_type": "code",
   "execution_count": 13,
   "metadata": {},
   "outputs": [
    {
     "data": {
      "text/plain": [
       "[{'hypocenter_reference_catalog': 'PDEW',\n",
       "  'date': '2014/08/01',\n",
       "  'time': '00:01:27.8',\n",
       "  'latitude': '-57.40',\n",
       "  'longitude': '-147.53',\n",
       "  'depth': '10.0',\n",
       "  'magnitudes': '0.0 4.8',\n",
       "  'location': 'PACIFIC-ANTARCTIC RIDGE',\n",
       "  'CMT_event_name': 'C201408010001B',\n",
       "  'inversion_info': {'B_data': {'n_stations': '27',\n",
       "    'n_components': '29',\n",
       "    'shortest_period': '40'},\n",
       "   'S_data': {'n_stations': '71',\n",
       "    'n_components': '86',\n",
       "    'shortest_period': '50'},\n",
       "   'M_data': {'n_stations': '0', 'n_components': '0', 'shortest_period': '0'}},\n",
       "  'inversion_source_type': 'CMT: 1',\n",
       "  'moment_rate_function': {'type': 'TRIHD', 'value': '0.7'},\n",
       "  'centroid_parameters': {'time': {'value': '5.7', 'standard_error': '0.3'},\n",
       "   'latitude': {'value': '-57.71', 'standard_error': '0.03'},\n",
       "   'longitude': {'value': '-147.76', 'standard_error': '0.03'},\n",
       "   'depth': {'value': '20.4', 'standard_error': '2.2'}},\n",
       "  'depth_type': 'free',\n",
       "  'timestamp': {'CMT_type': 'standard', 'Timestamp': 'S-20141113124318'},\n",
       "  'CMT_exponent': '23',\n",
       "  'moment_tensor': '  0.008 0.159  1.870 0.145 -1.880 0.118 -0.469 0.286 -0.335 0.213  1.810 0.108',\n",
       "  'code_version': 'V10',\n",
       "  'moment_tensor_principal_axis': '   2.717 12 158  -0.101 78 353  -2.618  3 248',\n",
       "  'scalar_moment': '  2.668',\n",
       "  'sdr_1st_nodal_plane_dc': '294 80    6 202 84  170'},\n",
       " {'hypocenter_reference_catalog': 'PDEW',\n",
       "  'date': '2014/08/01',\n",
       "  'time': '03:10:07.2',\n",
       "  'latitude': '4.53',\n",
       "  'longitude': '96.48',\n",
       "  'depth': '34.5',\n",
       "  'magnitudes': '0.0 4.8',\n",
       "  'location': 'NORTHERN SUMATRA, INDONE',\n",
       "  'CMT_event_name': 'C201408010310A',\n",
       "  'inversion_info': {'B_data': {'n_stations': '32',\n",
       "    'n_components': '34',\n",
       "    'shortest_period': '40'},\n",
       "   'S_data': {'n_stations': '98',\n",
       "    'n_components': '151',\n",
       "    'shortest_period': '50'},\n",
       "   'M_data': {'n_stations': '0', 'n_components': '0', 'shortest_period': '0'}},\n",
       "  'inversion_source_type': 'CMT: 1',\n",
       "  'moment_rate_function': {'type': 'TRIHD', 'value': '0.7'},\n",
       "  'centroid_parameters': {'time': {'value': '1.9', 'standard_error': '0.3'},\n",
       "   'latitude': {'value': '4.48', 'standard_error': '0.02'},\n",
       "   'longitude': {'value': '96.55', 'standard_error': '0.01'},\n",
       "   'depth': {'value': '20.7', 'standard_error': '1.7'}},\n",
       "  'depth_type': 'free',\n",
       "  'timestamp': {'CMT_type': 'standard', 'Timestamp': 'S-20141105143301'},\n",
       "  'CMT_exponent': '23',\n",
       "  'moment_tensor': '  0.002 0.142 -3.100 0.115  3.100 0.117 -1.460 0.255 -0.817 0.230 -0.737 0.092',\n",
       "  'code_version': 'V10',\n",
       "  'moment_tensor_principal_axis': '   3.326 12  86   0.497 64 203  -3.821 22 351',\n",
       "  'scalar_moment': '  3.573',\n",
       "  'sdr_1st_nodal_plane_dc': '130 65 -172  37 83  -25'},\n",
       " {'hypocenter_reference_catalog': 'PDEW',\n",
       "  'date': '2014/08/01',\n",
       "  'time': '04:11:16.5',\n",
       "  'latitude': '36.86',\n",
       "  'longitude': '3.18',\n",
       "  'depth': '10.0',\n",
       "  'magnitudes': '0.0 5.5',\n",
       "  'location': 'NORTHERN ALGERIA',\n",
       "  'CMT_event_name': 'C201408010411A',\n",
       "  'inversion_info': {'B_data': {'n_stations': '120',\n",
       "    'n_components': '199',\n",
       "    'shortest_period': '40'},\n",
       "   'S_data': {'n_stations': '155',\n",
       "    'n_components': '332',\n",
       "    'shortest_period': '50'},\n",
       "   'M_data': {'n_stations': '0', 'n_components': '0', 'shortest_period': '0'}},\n",
       "  'inversion_source_type': 'CMT: 1',\n",
       "  'moment_rate_function': {'type': 'TRIHD', 'value': '1.5'},\n",
       "  'centroid_parameters': {'time': {'value': '2.6', 'standard_error': '0.1'},\n",
       "   'latitude': {'value': '36.87', 'standard_error': '0.01'},\n",
       "   'longitude': {'value': '3.22', 'standard_error': '0.01'},\n",
       "   'depth': {'value': '18.0', 'standard_error': '0.4'}},\n",
       "  'depth_type': 'free',\n",
       "  'timestamp': {'CMT_type': 'standard', 'Timestamp': 'S-20141105145225'},\n",
       "  'CMT_exponent': '24',\n",
       "  'moment_tensor': '  1.700 0.030 -1.780 0.024  0.084 0.019 -2.200 0.076 -0.402 0.053 -0.190 0.015',\n",
       "  'code_version': 'V10',\n",
       "  'moment_tensor_principal_axis': '   2.794 64 166   0.095  2 261  -2.885 26 353',\n",
       "  'scalar_moment': '  2.840',\n",
       "  'sdr_1st_nodal_plane_dc': ' 88 19   97 261 71   87'},\n",
       " {'hypocenter_reference_catalog': 'PDEW',\n",
       "  'date': '2014/08/01',\n",
       "  'time': '13:01:47.9',\n",
       "  'latitude': '-17.56',\n",
       "  'longitude': '-173.65',\n",
       "  'depth': '10.0',\n",
       "  'magnitudes': '0.0 5.1',\n",
       "  'location': 'TONGA ISLANDS',\n",
       "  'CMT_event_name': 'C201408011301A',\n",
       "  'inversion_info': {'B_data': {'n_stations': '50',\n",
       "    'n_components': '63',\n",
       "    'shortest_period': '40'},\n",
       "   'S_data': {'n_stations': '107',\n",
       "    'n_components': '151',\n",
       "    'shortest_period': '50'},\n",
       "   'M_data': {'n_stations': '0', 'n_components': '0', 'shortest_period': '0'}},\n",
       "  'inversion_source_type': 'CMT: 1',\n",
       "  'moment_rate_function': {'type': 'TRIHD', 'value': '0.8'},\n",
       "  'centroid_parameters': {'time': {'value': '8.9', 'standard_error': '0.2'},\n",
       "   'latitude': {'value': '-17.74', 'standard_error': '0.02'},\n",
       "   'longitude': {'value': '-173.27', 'standard_error': '0.02'},\n",
       "   'depth': {'value': '59.2', 'standard_error': '1.8'}},\n",
       "  'depth_type': 'free',\n",
       "  'timestamp': {'CMT_type': 'standard', 'Timestamp': 'S-20141113133530'},\n",
       "  'CMT_exponent': '23',\n",
       "  'moment_tensor': '  2.690 0.153  0.454 0.124 -3.150 0.105 -0.686 0.084 -2.040 0.081  0.221 0.111',\n",
       "  'code_version': 'V10',\n",
       "  'moment_tensor_principal_axis': '   3.502 68 128   0.284 13   4  -3.792 17 270',\n",
       "  'scalar_moment': '  3.647',\n",
       "  'sdr_1st_nodal_plane_dc': '341 30   64 190 64  104'},\n",
       " {'hypocenter_reference_catalog': 'PDEW',\n",
       "  'date': '2014/08/01',\n",
       "  'time': '13:12:56.1',\n",
       "  'latitude': '17.51',\n",
       "  'longitude': '146.53',\n",
       "  'depth': '108.7',\n",
       "  'magnitudes': '0.0 5.0',\n",
       "  'location': 'MARIANA ISLANDS',\n",
       "  'CMT_event_name': 'C201408011312A',\n",
       "  'inversion_info': {'B_data': {'n_stations': '52',\n",
       "    'n_components': '57',\n",
       "    'shortest_period': '40'},\n",
       "   'S_data': {'n_stations': '120',\n",
       "    'n_components': '189',\n",
       "    'shortest_period': '50'},\n",
       "   'M_data': {'n_stations': '0', 'n_components': '0', 'shortest_period': '0'}},\n",
       "  'inversion_source_type': 'CMT: 1',\n",
       "  'moment_rate_function': {'type': 'TRIHD', 'value': '0.8'},\n",
       "  'centroid_parameters': {'time': {'value': '3.0', 'standard_error': '0.2'},\n",
       "   'latitude': {'value': '17.53', 'standard_error': '0.01'},\n",
       "   'longitude': {'value': '146.79', 'standard_error': '0.02'},\n",
       "   'depth': {'value': '101.9', 'standard_error': '2.7'}},\n",
       "  'depth_type': 'free',\n",
       "  'timestamp': {'CMT_type': 'standard', 'Timestamp': 'S-20141105154027'},\n",
       "  'CMT_exponent': '23',\n",
       "  'moment_tensor': '  0.507 0.116  1.300 0.116 -1.810 0.111 -2.800 0.064  0.600 0.074  2.610 0.093',\n",
       "  'code_version': 'V10',\n",
       "  'moment_tensor_principal_axis': '   4.205 33 160  -0.017 46 293  -4.191 25  52',\n",
       "  'scalar_moment': '  4.198',\n",
       "  'sdr_1st_nodal_plane_dc': '193 47  173 288 85   44'}]"
      ]
     },
     "execution_count": 13,
     "metadata": {},
     "output_type": "execute_result"
    }
   ],
   "source": [
    "st.NDK2JSON_list(filename, range(5),'ndk_2014_08_01.json')"
   ]
  },
  {
   "cell_type": "code",
   "execution_count": 14,
   "metadata": {},
   "outputs": [
    {
     "name": "stdout",
     "output_type": "stream",
     "text": [
      "C201408011312A.json          developing-NDK-to-JSON.ipynb\r\n",
      "README.md                    developing-SAC-to-JSON.ipynb\r\n",
      "\u001b[1m\u001b[36mSeismoTools\u001b[m\u001b[m                  ndk_2014_08_01.json\r\n",
      "\u001b[1m\u001b[36mdata\u001b[m\u001b[m                         \u001b[1m\u001b[36mtest\u001b[m\u001b[m\r\n"
     ]
    }
   ],
   "source": [
    "!ls"
   ]
  },
  {
   "cell_type": "code",
   "execution_count": null,
   "metadata": {},
   "outputs": [],
   "source": []
  }
 ],
 "metadata": {
  "@webio": {
   "lastCommId": null,
   "lastKernelId": null
  },
  "kernelspec": {
   "display_name": "Python 3",
   "language": "python",
   "name": "python3"
  },
  "language_info": {
   "codemirror_mode": {
    "name": "ipython",
    "version": 3
   },
   "file_extension": ".py",
   "mimetype": "text/x-python",
   "name": "python",
   "nbconvert_exporter": "python",
   "pygments_lexer": "ipython3",
   "version": "3.6.5"
  }
 },
 "nbformat": 4,
 "nbformat_minor": 2
}
